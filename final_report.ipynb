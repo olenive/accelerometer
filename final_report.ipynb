{
 "cells": [
  {
   "cell_type": "markdown",
   "metadata": {},
   "source": [
    "## Classification of accelerometer data\n",
    "\n",
    "In this notebook I use a Naive Bayes classifier and a k-nearest neighbour classifier to attempt to distinguish between six types of physical activity using accelerometer data gathered in the study by Kwapisz *et al*.\n",
    "\n",
    "Raw data published by the reserach group (http://www.cis.fordham.edu/wisdm/includes/datasets/latest/WISDM_ar_latest.tar.gz) is first processed into 10 second intervals.  It is split into a training and test set by randomly assigning two thirds of user ids to the training set and using the rest for the test set.  The reasoning behind splitting the data by user id is that this simulates the the process of training a classifier on available data and then applying it to data gathered from a new group of users.\n",
    "\n",
    "For each 10 second measurement interval the following features are calculated:<br>\n",
    "1) The mean absolute change in acceleration per second.<br>\n",
    "2) The mean of the angle between acceleration vectors for consecutive measurements.<br>\n",
    "3) Mean acceleration in the x direction.<br>\n",
    "4) Mean acceleration in the y direction.<br>\n",
    "5) Mean acceleration in the z direction.<br>\n",
    "\n",
    "The resulting feature vectors (five values for each 10 second interval) and asociated labels are then passed to each classifier.\n",
    "\n",
    "Original study citation:\n",
    "Jennifer R. Kwapisz, Gary M. Weiss and Samuel A. Moore (2010). Activity Recognition using Cell Phone Accelerometers, Proceedings of the Fourth International Workshop on Knowledge Discovery from Sensor Data (at KDD-10), Washington DC."
   ]
  },
  {
   "cell_type": "code",
   "execution_count": 1,
   "metadata": {},
   "outputs": [],
   "source": [
    "import sys\n",
    "import os\n",
    "import time\n",
    "import numpy as np\n",
    "from typing import List\n",
    "import matplotlib.pyplot as plt\n",
    "\n",
    "import parse\n",
    "import features\n",
    "import plot\n",
    "import classification\n",
    "from classification import GaussianNaiveBayesClassifier, KNNClassifier"
   ]
  },
  {
   "cell_type": "markdown",
   "metadata": {},
   "source": [
    "### Data preprocessing"
   ]
  },
  {
   "cell_type": "code",
   "execution_count": 2,
   "metadata": {},
   "outputs": [],
   "source": [
    "# Specify path to raw data file.\n",
    "RAW_DATA_FILE = os.path.join(os.environ[\"HOME\"], \"data\", \"accelerometer\", \"WISDM_ar_v1.1\", \"WISDM_ar_v1.1_raw.txt\")\n",
    "\n",
    "# Random number generator seeds\n",
    "TRAIN_TEST_SHUFFLE_SEED = 6\n"
   ]
  },
  {
   "cell_type": "code",
   "execution_count": 3,
   "metadata": {},
   "outputs": [
    {
     "name": "stdout",
     "output_type": "stream",
     "text": [
      "{'Standing', 'Upstairs', 'Jogging', 'Walking', 'Downstairs', 'Sitting'}\n",
      "{1, 2, 3, 4, 5, 6, 7, 8, 9, 10, 11, 12, 13, 14, 15, 16, 17, 18, 19, 20, 21, 22, 23, 24, 25, 26, 27, 28, 29, 30, 31, 32, 33, 34, 35, 36}\n"
     ]
    }
   ],
   "source": [
    "# Load data\n",
    "raw_data = parse.file_to_string(RAW_DATA_FILE)\n",
    "raw_measurements = parse.timepoint_strings_to_timepoint_tuples(\n",
    "    parse.raw_data_string_to_timepoint_strings(raw_data)\n",
    ")\n",
    "user_ids = parse.extract_user_set(raw_measurements)\n",
    "activities = parse.extract_activity_set(raw_measurements)\n",
    "print(activities)\n",
    "print(user_ids)"
   ]
  },
  {
   "cell_type": "code",
   "execution_count": 4,
   "metadata": {},
   "outputs": [],
   "source": [
    "# Parse raw data into 10 second intervals.\n",
    "nanoseconds_in_one_second = 1000000000\n",
    "nanoseconds_in_10_seconds = 10000000000\n",
    "intervals: dict = parse.intervals_by_user_and_activity(\n",
    "    raw_measurements,\n",
    "    interval_duration_in_nanoseconds=nanoseconds_in_10_seconds,\n",
    "    maximum_gap_in_nanoseconds=(nanoseconds_in_one_second * 2)\n",
    ")"
   ]
  },
  {
   "cell_type": "code",
   "execution_count": 5,
   "metadata": {},
   "outputs": [],
   "source": [
    "# Calculate features for all data intervals\n",
    "feature_vectors = features.vectors_for_intervals(\n",
    "    intervals,\n",
    "    (\n",
    "        features.mean_absolute_magnitude_change_per_second,\n",
    "        features.mean_angle_change_per_second,\n",
    "        features.mean_x_acceleration,\n",
    "        features.mean_y_acceleration,\n",
    "        features.mean_z_acceleration\n",
    "    )\n",
    ")\n"
   ]
  },
  {
   "cell_type": "code",
   "execution_count": 6,
   "metadata": {},
   "outputs": [],
   "source": [
    "# Create train and test sets.\n",
    "def _shuffled_sequence(length):\n",
    "    seq = list(range(length))\n",
    "    np.random.shuffle(seq)  # Numpy does this in place.\n",
    "    return tuple(seq)\n",
    "\n",
    "# Create train-test folds of user ids.\n",
    "np.random.seed(TRAIN_TEST_SHUFFLE_SEED)\n",
    "sequence = _shuffled_sequence(len(user_ids))\n",
    "folds_user_ids = classification.train_test_folds(list(user_ids), sequence, 3)\n"
   ]
  },
  {
   "cell_type": "code",
   "execution_count": 7,
   "metadata": {},
   "outputs": [],
   "source": [
    "# Create train and test data sets.\n",
    "train_features = parse.collect_dict_values_by_listed_key_contents(feature_vectors, folds_user_ids[0][0])\n",
    "test_features = parse.collect_dict_values_by_listed_key_contents(feature_vectors, folds_user_ids[0][1])\n"
   ]
  },
  {
   "cell_type": "markdown",
   "metadata": {},
   "source": [
    "### Gaussian Naive Bayes"
   ]
  },
  {
   "cell_type": "code",
   "execution_count": 8,
   "metadata": {},
   "outputs": [],
   "source": [
    "# Fit Gaussian naive Bayes classifier.\n",
    "nb_classifier = classification.GaussianNaiveBayesClassifier(train_features, activities)"
   ]
  },
  {
   "cell_type": "code",
   "execution_count": 9,
   "metadata": {},
   "outputs": [
    {
     "name": "stdout",
     "output_type": "stream",
     "text": [
      "Percentage accuracy:  83.41257263602748\n"
     ]
    },
    {
     "data": {
      "image/png": "[encoded data removed]",
      "text/plain": [
       "<matplotlib.figure.Figure at 0x10f7600f0>"
      ]
     },
     "metadata": {},
     "output_type": "display_data"
    }
   ],
   "source": [
    "# Make predictions for the test set and plot confusion matrix.\n",
    "gnb_pairs = nb_classifier.predicted_and_labeled_pairs(test_features)\n",
    "gnb_matrix, gnb_labels = classification.confusion_matrix_from_pairs(gnb_pairs)\n",
    "plot.confusion_matrix(gnb_matrix, gnb_labels)\n",
    "print(\"Percentage accuracy: \", classification.accuracy_from_confusion_matrix(gnb_matrix) * 100)"
   ]
  },
  {
   "cell_type": "markdown",
   "metadata": {},
   "source": [
    "#### Potential further work\n",
    "* Test (e.g. using the Kolmogorov–Smirnov test) how well/badly the features correspond to a Normal distribution and try fitting other continuous distributions.\n",
    "* Use discretised binning of features rather than a continuous distribution.\n",
    "* Try fitting multivariate distributions to combinations of features.\n",
    "* Carry out k-fold cross validation."
   ]
  },
  {
   "cell_type": "markdown",
   "metadata": {},
   "source": [
    "### k-Nearest Neighbors"
   ]
  },
  {
   "cell_type": "code",
   "execution_count": 10,
   "metadata": {},
   "outputs": [],
   "source": [
    "# Instantiate kNN classifier with training data.\n",
    "k = 11\n",
    "knn_classifier = KNNClassifier(train_features)"
   ]
  },
  {
   "cell_type": "code",
   "execution_count": 11,
   "metadata": {},
   "outputs": [
    {
     "name": "stdout",
     "output_type": "stream",
     "text": [
      "59.408931016922 seconds taken to classify test set.\n"
     ]
    }
   ],
   "source": [
    "# Make predictions for the test set and plot confusion matrix.\n",
    "start_time = time.time()\n",
    "knn_pairs = knn_classifier.predicted_and_labeled_pairs(test_features, k)\n",
    "print(\"%s seconds taken to classify test set.\" % (time.time() - start_time))"
   ]
  },
  {
   "cell_type": "code",
   "execution_count": 12,
   "metadata": {},
   "outputs": [
    {
     "name": "stdout",
     "output_type": "stream",
     "text": [
      "Percentage accuracy:  79.02799788695192\n"
     ]
    },
    {
     "data": {
      "image/png": "[encoded data removed]",
      "text/plain": [
       "<matplotlib.figure.Figure at 0x11280e710>"
      ]
     },
     "metadata": {},
     "output_type": "display_data"
    }
   ],
   "source": [
    "knn_matrix, knn_labels = classification.confusion_matrix_from_pairs(knn_pairs)\n",
    "plot.confusion_matrix(knn_matrix, knn_labels)\n",
    "print(\"Percentage accuracy: \", classification.accuracy_from_confusion_matrix(knn_matrix) * 100)"
   ]
  },
  {
   "cell_type": "markdown",
   "metadata": {},
   "source": [
    "### Conclusions\n",
    "\n",
    "Both classifiers are able to distinguish between low (standing and sitting), medium (walking and walking up or down stairs) and high intensity activities (jogging) but sturggle to distinguish activites within these categories.  Both classifiers are partcularly bad at distinguishing between walking and walking up or down stairs.  This is due to greater similarity of movements with these activities but also due to the choice of features used here.  In a real world scenario the problem of distinguishing between similar types of activities would be exercebated as people's movements would not fall so neatly into different categories.\n"
   ]
  }
 ],
 "metadata": {
  "kernelspec": {
   "display_name": "Python 3",
   "language": "python",
   "name": "python3"
  },
  "language_info": {
   "codemirror_mode": {
    "name": "ipython",
    "version": 3
   },
   "file_extension": ".py",
   "mimetype": "text/x-python",
   "name": "python",
   "nbconvert_exporter": "python",
   "pygments_lexer": "ipython3",
   "version": "3.6.4"
  }
 },
 "nbformat": 4,
 "nbformat_minor": 2
}
