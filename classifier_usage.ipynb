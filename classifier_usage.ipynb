{
 "cells": [
  {
   "cell_type": "code",
   "execution_count": null,
   "metadata": {},
   "outputs": [],
   "source": [
    "import sys\n",
    "import os\n",
    "import numpy as np\n",
    "from typing import List\n",
    "import matplotlib.pyplot as plt\n",
    "\n",
    "import parse\n",
    "import features\n",
    "import plot\n",
    "import classification\n",
    "from classification import GaussianNaiveBayesClassifier"
   ]
  },
  {
   "cell_type": "markdown",
   "metadata": {},
   "source": [
    "### Data preprocessing"
   ]
  },
  {
   "cell_type": "code",
   "execution_count": null,
   "metadata": {},
   "outputs": [],
   "source": [
    "# Specify path to raw data file.\n",
    "RAW_DATA_FILE = os.path.join(os.environ[\"HOME\"], \"data\", \"accelerometer\", \"WISDM_ar_v1.1\", \"WISDM_ar_v1.1_raw.txt\")\n",
    "\n",
    "# Random number generator seeds\n",
    "TRAIN_TEST_SHUFFLE_SEED = 6\n"
   ]
  },
  {
   "cell_type": "code",
   "execution_count": null,
   "metadata": {},
   "outputs": [],
   "source": [
    "# Load data\n",
    "raw_data = parse.file_to_string(RAW_DATA_FILE)\n",
    "raw_measurements = parse.timepoint_strings_to_timepoint_tuples(\n",
    "    parse.raw_data_string_to_timepoint_strings(raw_data)\n",
    ")\n",
    "user_ids = parse.extract_user_set(raw_measurements)\n",
    "activities = parse.extract_activity_set(raw_measurements)\n",
    "print(activities)\n",
    "print(user_ids)"
   ]
  },
  {
   "cell_type": "code",
   "execution_count": null,
   "metadata": {},
   "outputs": [],
   "source": [
    "# Parse raw data into 10 second intervals.\n",
    "nanoseconds_in_one_second = 1000000000\n",
    "nanoseconds_in_10_seconds = 10000000000\n",
    "intervals: dict = parse.intervals_by_user_and_activity(\n",
    "    raw_measurements,\n",
    "    interval_duration_in_nanoseconds=nanoseconds_in_10_seconds,\n",
    "    maximum_gap_in_nanoseconds=(nanoseconds_in_one_second * 2)\n",
    ")"
   ]
  },
  {
   "cell_type": "code",
   "execution_count": null,
   "metadata": {},
   "outputs": [],
   "source": [
    "# Calculate features for all data intervals\n",
    "features = features.vectors_for_intervals(\n",
    "    intervals,\n",
    "    (features.mean_absolute_magnitude_change_per_second, features.mean_angle_change_per_second)\n",
    ")\n"
   ]
  },
  {
   "cell_type": "code",
   "execution_count": null,
   "metadata": {},
   "outputs": [],
   "source": [
    "# Create train and test sets.\n",
    "def _shuffled_sequence(length):\n",
    "    seq = list(range(length))\n",
    "    np.random.shuffle(seq)  # Numpy does this in place.\n",
    "    return tuple(seq)\n",
    "\n",
    "# Create train-test folds of user ids.\n",
    "np.random.seed(TRAIN_TEST_SHUFFLE_SEED)\n",
    "sequence = _shuffled_sequence(len(user_ids))\n",
    "folds_user_ids = classification.train_test_folds(list(user_ids), sequence, 3)\n"
   ]
  },
  {
   "cell_type": "code",
   "execution_count": null,
   "metadata": {},
   "outputs": [],
   "source": [
    "# Create train and test data sets.\n",
    "train_features = parse.collect_dict_values_by_listed_key_contents(features, folds_user_ids[0][0])\n",
    "test_features = parse.collect_dict_values_by_listed_key_contents(features, folds_user_ids[0][1])\n"
   ]
  },
  {
   "cell_type": "markdown",
   "metadata": {},
   "source": [
    "### Gaussian Naive Bayes"
   ]
  },
  {
   "cell_type": "code",
   "execution_count": null,
   "metadata": {},
   "outputs": [],
   "source": [
    "# Fit Gaussian naive Bayes classifier.\n",
    "nb_classifier = classification.GaussianNaiveBayesClassifier(train_features, activities)"
   ]
  },
  {
   "cell_type": "code",
   "execution_count": null,
   "metadata": {},
   "outputs": [],
   "source": [
    "# Example prediction of a class given a feature vector.\n",
    "nb_classifier.predict_from_feature_vector((125, 20))"
   ]
  },
  {
   "cell_type": "code",
   "execution_count": null,
   "metadata": {},
   "outputs": [],
   "source": [
    "# Make predictions for the test set and plot confusion matrix.\n",
    "pairs = nb_classifier.predicted_and_labeled_pairs(test_features)\n",
    "plot.confusion_matrix(*classification.confusion_matrix_from_pairs(pairs))"
   ]
  },
  {
   "cell_type": "markdown",
   "metadata": {},
   "source": [
    "### k-Nearest Neighbors"
   ]
  },
  {
   "cell_type": "code",
   "execution_count": null,
   "metadata": {},
   "outputs": [],
   "source": [
    "# Instantiate kNN classifier with training data.\n"
   ]
  },
  {
   "cell_type": "code",
   "execution_count": null,
   "metadata": {},
   "outputs": [],
   "source": [
    "# Example prediction of a class given a feature vector.\n"
   ]
  },
  {
   "cell_type": "code",
   "execution_count": null,
   "metadata": {},
   "outputs": [],
   "source": [
    "# Make predictions for the test set and plot confusion matrix.\n"
   ]
  }
 ],
 "metadata": {
  "kernelspec": {
   "display_name": "Python 3",
   "language": "python",
   "name": "python3"
  },
  "language_info": {
   "codemirror_mode": {
    "name": "ipython",
    "version": 3
   },
   "file_extension": ".py",
   "mimetype": "text/x-python",
   "name": "python",
   "nbconvert_exporter": "python",
   "pygments_lexer": "ipython3",
   "version": "3.6.4"
  }
 },
 "nbformat": 4,
 "nbformat_minor": 2
}
