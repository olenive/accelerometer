{
 "cells": [
  {
   "cell_type": "code",
   "execution_count": null,
   "metadata": {},
   "outputs": [],
   "source": [
    "import sys\n",
    "import os\n",
    "import numpy as np\n",
    "from typing import List\n",
    "import matplotlib.pyplot as plt\n",
    "\n",
    "import parse\n",
    "import features\n",
    "import plot\n",
    "import classification\n"
   ]
  },
  {
   "cell_type": "code",
   "execution_count": null,
   "metadata": {},
   "outputs": [],
   "source": [
    "# Specify path to raw data file.\n",
    "RAW_DATA_FILE = os.path.join(os.environ[\"HOME\"], \"data\", \"accelerometer\", \"WISDM_ar_v1.1\", \"WISDM_ar_v1.1_raw.txt\")\n",
    "\n",
    "# Plotting options\n",
    "SHOW_PLOTS = False\n"
   ]
  },
  {
   "cell_type": "code",
   "execution_count": null,
   "metadata": {},
   "outputs": [],
   "source": [
    "# Read and parse data from file.\n",
    "raw_data = parse.file_to_string(RAW_DATA_FILE)\n",
    "raw_measurements = parse.timepoint_strings_to_timepoint_tuples(\n",
    "    parse.raw_data_string_to_timepoint_strings(raw_data)\n",
    ")\n",
    "user_ids = parse.extract_user_set(raw_measurements)\n",
    "activities = parse.extract_activity_set(raw_measurements)\n",
    "print(activities)\n",
    "print(user_ids)"
   ]
  },
  {
   "cell_type": "code",
   "execution_count": null,
   "metadata": {},
   "outputs": [],
   "source": [
    "raw_times = np.array([x[2] for x in raw_measurements])\n",
    "raw_time_differences = raw_times[1:] - raw_times[:-1]"
   ]
  },
  {
   "cell_type": "code",
   "execution_count": null,
   "metadata": {},
   "outputs": [],
   "source": [
    "# Plot measurement times (in nanoseconds) for whole data set.\n",
    "if SHOW_PLOTS: figure, axis = plot.overlay_series(np.arange(0, len(raw_times)), [raw_times])"
   ]
  },
  {
   "cell_type": "code",
   "execution_count": null,
   "metadata": {},
   "outputs": [],
   "source": [
    "raw_accelerations = []\n",
    "for column in [3, 4, 5]:\n",
    "    raw_accelerations.append(np.array([v[column] for v in raw_measurements]))"
   ]
  },
  {
   "cell_type": "code",
   "execution_count": null,
   "metadata": {},
   "outputs": [],
   "source": [
    "# Plot segment of raw acceleration data against row number.\n",
    "if SHOW_PLOTS:\n",
    "    start =  196400\n",
    "    finish = 196800\n",
    "    figure, axis = plot.overlay_series(np.arange(0, len(raw_times))[start: finish],\n",
    "                                       [x[start: finish] for x in raw_accelerations])"
   ]
  },
  {
   "cell_type": "code",
   "execution_count": null,
   "metadata": {},
   "outputs": [],
   "source": [
    "# Parse raw data into 10 second intervals.\n",
    "nanoseconds_in_one_second = 1000000000\n",
    "nanoseconds_in_10_seconds = 10000000000\n",
    "intervals: dict = parse.intervals_by_user_and_activity(\n",
    "    raw_measurements,\n",
    "    interval_duration_in_nanoseconds=nanoseconds_in_10_seconds,\n",
    "    maximum_gap_in_nanoseconds=(nanoseconds_in_one_second * 2)\n",
    ")"
   ]
  },
  {
   "cell_type": "code",
   "execution_count": null,
   "metadata": {},
   "outputs": [],
   "source": [
    "# Count number of intervals for each user and activity\n",
    "all_counts = parse.count_intervals(intervals)\n",
    "activity_counts = parse.count_intervals_per_activity(intervals)\n",
    "user_counts = parse.count_intervals_per_user(intervals)\n",
    "print(activity_counts)\n",
    "print(user_counts)"
   ]
  },
  {
   "cell_type": "code",
   "execution_count": null,
   "metadata": {},
   "outputs": [],
   "source": [
    "# Select random examples of each activity.\n",
    "\n",
    "sampled_users = 33\n",
    "samples_per_user = 1\n",
    "\n",
    "np.random.seed(42)\n",
    "examples = dict()\n",
    "random_users = np.random.choice(list(user_ids), sampled_users)\n",
    "for activity in activities:\n",
    "    for user in random_users:\n",
    "        if len(intervals[(user, activity)]) >= samples_per_user:\n",
    "            examples[(user, activity)] = np.random.choice(intervals[(user, activity)], samples_per_user)\n"
   ]
  },
  {
   "cell_type": "code",
   "execution_count": null,
   "metadata": {},
   "outputs": [],
   "source": [
    "if SHOW_PLOTS: plot.intervals_by_activity(examples, [\"Upstairs\", \"Downstairs\"])"
   ]
  },
  {
   "cell_type": "code",
   "execution_count": null,
   "metadata": {},
   "outputs": [],
   "source": [
    "if SHOW_PLOTS: plot.intervals_by_activity(examples, [\"Walking\", \"Jogging\"])"
   ]
  },
  {
   "cell_type": "code",
   "execution_count": null,
   "metadata": {},
   "outputs": [],
   "source": [
    "if SHOW_PLOTS: plot.intervals_by_activity(examples, [\"Sitting\", \"Standing\"])"
   ]
  },
  {
   "cell_type": "code",
   "execution_count": null,
   "metadata": {},
   "outputs": [],
   "source": [
    "# Calculate features for all data intervals\n",
    "interval_features = features.vectors_for_intervals(\n",
    "    intervals,\n",
    "    (features.mean_absolute_magnitude_change_per_second, features.mean_angle_change_per_second)\n",
    ")\n"
   ]
  },
  {
   "cell_type": "code",
   "execution_count": null,
   "metadata": {},
   "outputs": [],
   "source": [
    "# Functions used to plot histograms of features.\n",
    "\n",
    "def collect_dict_values_by_activity(dictionary, activity):\n",
    "    out = dict()\n",
    "    for key, value in dictionary.items():\n",
    "        if activity in key:\n",
    "            out[key] = value\n",
    "    return out\n",
    "\n",
    "\n",
    "def plot_feature_histograms_for_activities(interval_features, activities, bins):\n",
    "    for activity in activities:\n",
    "        activity_intervals = collect_dict_values_by_activity(interval_features, activity)\n",
    "        feature_vectors = features.extract_vectors_from_dict(activity_intervals)\n",
    "        for i, vector in enumerate(feature_vectors):\n",
    "            plt.figure(figsize=(15,5))\n",
    "            plt.hist(\n",
    "                vector,\n",
    "                bins=bins,\n",
    "                normed=1, facecolor='blue', alpha=0.5)\n",
    "            plt.title(activity + \" x_\" + str(i))\n",
    "            plt.show()\n"
   ]
  },
  {
   "cell_type": "code",
   "execution_count": null,
   "metadata": {
    "scrolled": false
   },
   "outputs": [],
   "source": [
    "if SHOW_PLOTS: plot_feature_histograms_for_activities(interval_features, activities, 40)"
   ]
  },
  {
   "cell_type": "code",
   "execution_count": null,
   "metadata": {},
   "outputs": [],
   "source": [
    "# Functions used for scatter plots of features    \n",
    "\n",
    "def feature_scatter_for_activities(interval_features, activities, colours):\n",
    "    fig, ax = plt.subplots(figsize=(10,10))\n",
    "    for i, activity in enumerate(activities):\n",
    "        activity_intervals = collect_dict_values_by_activity(interval_features, activity)\n",
    "        x = features.extract_vectors_from_dict(activity_intervals)\n",
    "        ax.scatter(x[0], x[1], c=colours[i], alpha=0.4, marker='.', label=activity)\n",
    "    ax.set_xlim((0, 200))\n",
    "    ax.set_ylim((0, 40))\n",
    "    x0,x1 = ax.get_xlim()\n",
    "    y0,y1 = ax.get_ylim()\n",
    "    ax.set_aspect(abs(x1-x0)/abs(y1-y0))\n",
    "    ax.set_title(\"\")\n",
    "    plt.xlabel(\"mean absolute magnitude change per second\")\n",
    "    plt.ylabel(\"mean angle change per second\")\n",
    "    ax.legend()\n",
    "    plt.show()\n",
    "    "
   ]
  },
  {
   "cell_type": "code",
   "execution_count": null,
   "metadata": {
    "scrolled": false
   },
   "outputs": [],
   "source": [
    "if SHOW_PLOTS:\n",
    "    feature_scatter_for_activities(\n",
    "        interval_features,\n",
    "        activities,\n",
    "        ['blue', 'red', 'purple', 'gold', 'green', 'cyan']\n",
    "    )"
   ]
  },
  {
   "cell_type": "code",
   "execution_count": null,
   "metadata": {},
   "outputs": [],
   "source": []
  },
  {
   "cell_type": "code",
   "execution_count": null,
   "metadata": {},
   "outputs": [],
   "source": []
  }
 ],
 "metadata": {
  "kernelspec": {
   "display_name": "Python 3",
   "language": "python",
   "name": "python3"
  },
  "language_info": {
   "codemirror_mode": {
    "name": "ipython",
    "version": 3
   },
   "file_extension": ".py",
   "mimetype": "text/x-python",
   "name": "python",
   "nbconvert_exporter": "python",
   "pygments_lexer": "ipython3",
   "version": "3.6.4"
  }
 },
 "nbformat": 4,
 "nbformat_minor": 2
}
