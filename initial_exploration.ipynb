{
 "cells": [
  {
   "cell_type": "code",
   "execution_count": null,
   "metadata": {},
   "outputs": [],
   "source": [
    "import sys\n",
    "import os\n",
    "import numpy as np\n",
    "from typing import List\n",
    "import matplotlib.pyplot as plt\n",
    "\n",
    "import parse\n",
    "import plot\n"
   ]
  },
  {
   "cell_type": "code",
   "execution_count": null,
   "metadata": {},
   "outputs": [],
   "source": [
    "# Specify path to raw data file.\n",
    "RAW_DATA_FILE = os.path.join(os.environ[\"HOME\"], \"data\", \"accelerometer\", \"WISDM_ar_v1.1\", \"WISDM_ar_v1.1_raw.txt\")\n"
   ]
  },
  {
   "cell_type": "code",
   "execution_count": null,
   "metadata": {},
   "outputs": [],
   "source": [
    "# Read and parse data from file\n",
    "raw_data = parse.file_to_string(RAW_DATA_FILE)\n",
    "raw_measurements = parse.timepoint_strings_to_timepoint_tuples(\n",
    "    parse.raw_data_string_to_timepoint_strings(raw_data)\n",
    ")\n",
    "user_ids = parse.extract_user_set(raw_measurements)\n",
    "activities = parse.extract_activity_set(raw_measurements)\n",
    "print(activities)\n",
    "print(user_ids)"
   ]
  },
  {
   "cell_type": "code",
   "execution_count": null,
   "metadata": {},
   "outputs": [],
   "source": [
    "raw_times = np.array([x[2] for x in raw_measurements])\n",
    "raw_time_differences = raw_times[1:] - raw_times[:-1]"
   ]
  },
  {
   "cell_type": "code",
   "execution_count": null,
   "metadata": {},
   "outputs": [],
   "source": [
    "# Plot measurement times (in nanoseconds) for whole data set.\n",
    "figure, axis = plot.overlay_series(np.arange(0, len(raw_times)), [raw_times])"
   ]
  },
  {
   "cell_type": "code",
   "execution_count": null,
   "metadata": {},
   "outputs": [],
   "source": [
    "\n",
    "# Create 10 second data interval - store to tuple \n",
    "\n",
    "# Store intervals per user and activity"
   ]
  },
  {
   "cell_type": "code",
   "execution_count": null,
   "metadata": {},
   "outputs": [],
   "source": [
    "# Create (approx) 10 second intervals\n",
    "\n",
    "# Subtract maximum"
   ]
  },
  {
   "cell_type": "code",
   "execution_count": null,
   "metadata": {},
   "outputs": [],
   "source": [
    "# Plot time against acceleration"
   ]
  },
  {
   "cell_type": "code",
   "execution_count": null,
   "metadata": {},
   "outputs": [],
   "source": []
  },
  {
   "cell_type": "code",
   "execution_count": null,
   "metadata": {},
   "outputs": [],
   "source": [
    "# When calculating changes in acceleration, convert to per second"
   ]
  },
  {
   "cell_type": "code",
   "execution_count": null,
   "metadata": {},
   "outputs": [],
   "source": [
    "# Parse raw data into 10 second intervals.\n",
    "nanoseconds_in_one_second = 1000000000\n",
    "nanoseconds_in_10_seconds = 10000000000\n",
    "intervals: dict = parse.intervals_by_user_and_activity(\n",
    "    raw_measurements,\n",
    "    interval_duration_in_nanoseconds=nanoseconds_in_10_seconds,\n",
    "    maximum_gap_in_nanoseconds=(nanoseconds_in_one_second * 2)\n",
    ")"
   ]
  },
  {
   "cell_type": "code",
   "execution_count": null,
   "metadata": {},
   "outputs": [],
   "source": [
    "# Count number of intervals for each user and activity\n",
    "# for key, value in intervals.items():\n",
    "    "
   ]
  },
  {
   "cell_type": "code",
   "execution_count": null,
   "metadata": {},
   "outputs": [],
   "source": [
    "# Plot examples of time series for each activity"
   ]
  },
  {
   "cell_type": "code",
   "execution_count": null,
   "metadata": {},
   "outputs": [],
   "source": [
    "# Select random examples of each activity.\n",
    "np.random.seed(42)\n",
    "examples = dict()\n",
    "random_users = np.random.choice(list(user_ids), 5)\n",
    "for activity in activities:\n",
    "    for user in random_users:\n",
    "        print(len(intervals[(user, activity)]))\n",
    "#         examples[(user, activity)] = np.random.choice(intervals[(user, activity)], 5)\n",
    "#     np.random.choice(aa_milne_arr, 5)"
   ]
  },
  {
   "cell_type": "code",
   "execution_count": null,
   "metadata": {},
   "outputs": [],
   "source": [
    "random_users"
   ]
  },
  {
   "cell_type": "code",
   "execution_count": null,
   "metadata": {},
   "outputs": [],
   "source": [
    "\n",
    "for key in intervals.keys():\n",
    "    print(key)"
   ]
  },
  {
   "cell_type": "code",
   "execution_count": null,
   "metadata": {},
   "outputs": [],
   "source": [
    "# Create training and testing sets\n",
    "len(user_ids)"
   ]
  },
  {
   "cell_type": "code",
   "execution_count": null,
   "metadata": {},
   "outputs": [],
   "source": []
  }
 ],
 "metadata": {
  "kernelspec": {
   "display_name": "Python 3",
   "language": "python",
   "name": "python3"
  },
  "language_info": {
   "codemirror_mode": {
    "name": "ipython",
    "version": 3
   },
   "file_extension": ".py",
   "mimetype": "text/x-python",
   "name": "python",
   "nbconvert_exporter": "python",
   "pygments_lexer": "ipython3",
   "version": "3.6.4"
  }
 },
 "nbformat": 4,
 "nbformat_minor": 2
}
