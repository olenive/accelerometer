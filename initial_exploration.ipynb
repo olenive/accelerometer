{
 "cells": [
  {
   "cell_type": "code",
   "execution_count": 1,
   "metadata": {},
   "outputs": [],
   "source": [
    "import sys\n",
    "import os\n",
    "import numpy as np\n",
    "from typing import List\n",
    "import matplotlib.pyplot as plt\n",
    "\n",
    "import parse\n",
    "import features\n",
    "import plot\n",
    "import classification\n"
   ]
  },
  {
   "cell_type": "code",
   "execution_count": 2,
   "metadata": {},
   "outputs": [],
   "source": [
    "# Specify path to raw data file.\n",
    "RAW_DATA_FILE = os.path.join(os.environ[\"HOME\"], \"data\", \"accelerometer\", \"WISDM_ar_v1.1\", \"WISDM_ar_v1.1_raw.txt\")\n",
    "\n",
    "# Plotting options\n",
    "FLAG_PLOT = False\n"
   ]
  },
  {
   "cell_type": "code",
   "execution_count": 3,
   "metadata": {},
   "outputs": [
    {
     "name": "stdout",
     "output_type": "stream",
     "text": [
      "{'Walking', 'Downstairs', 'Standing', 'Jogging', 'Sitting', 'Upstairs'}\n",
      "{1, 2, 3, 4, 5, 6, 7, 8, 9, 10, 11, 12, 13, 14, 15, 16, 17, 18, 19, 20, 21, 22, 23, 24, 25, 26, 27, 28, 29, 30, 31, 32, 33, 34, 35, 36}\n"
     ]
    }
   ],
   "source": [
    "# Read and parse data from file.\n",
    "raw_data = parse.file_to_string(RAW_DATA_FILE)\n",
    "raw_measurements = parse.timepoint_strings_to_timepoint_tuples(\n",
    "    parse.raw_data_string_to_timepoint_strings(raw_data)\n",
    ")\n",
    "user_ids = parse.extract_user_set(raw_measurements)\n",
    "activities = parse.extract_activity_set(raw_measurements)\n",
    "print(activities)\n",
    "print(user_ids)"
   ]
  },
  {
   "cell_type": "code",
   "execution_count": 4,
   "metadata": {},
   "outputs": [],
   "source": [
    "raw_times = np.array([x[2] for x in raw_measurements])\n",
    "raw_time_differences = raw_times[1:] - raw_times[:-1]"
   ]
  },
  {
   "cell_type": "code",
   "execution_count": 5,
   "metadata": {},
   "outputs": [],
   "source": [
    "# Plot measurement times (in nanoseconds) for whole data set.\n",
    "if FLAG_PLOT: figure, axis = plot.overlay_series(np.arange(0, len(raw_times)), [raw_times])"
   ]
  },
  {
   "cell_type": "code",
   "execution_count": 6,
   "metadata": {},
   "outputs": [],
   "source": [
    "raw_accelerations = []\n",
    "for column in [3, 4, 5]:\n",
    "    raw_accelerations.append(np.array([v[column] for v in raw_measurements]))"
   ]
  },
  {
   "cell_type": "code",
   "execution_count": 7,
   "metadata": {},
   "outputs": [],
   "source": [
    "# Plot segment of raw acceleration data against row number.\n",
    "if FLAG_PLOT:\n",
    "    start =  196400\n",
    "    finish = 196800\n",
    "    figure, axis = plot.overlay_series(np.arange(0, len(raw_times))[start: finish],\n",
    "                                       [x[start: finish] for x in raw_accelerations])"
   ]
  },
  {
   "cell_type": "code",
   "execution_count": 8,
   "metadata": {},
   "outputs": [],
   "source": [
    "# Parse raw data into 10 second intervals.\n",
    "nanoseconds_in_one_second = 1000000000\n",
    "nanoseconds_in_10_seconds = 10000000000\n",
    "intervals: dict = parse.intervals_by_user_and_activity(\n",
    "    raw_measurements,\n",
    "    interval_duration_in_nanoseconds=nanoseconds_in_10_seconds,\n",
    "    maximum_gap_in_nanoseconds=(nanoseconds_in_one_second * 3)\n",
    ")"
   ]
  },
  {
   "cell_type": "code",
   "execution_count": 9,
   "metadata": {},
   "outputs": [
    {
     "name": "stdout",
     "output_type": "stream",
     "text": [
      "{'Walking': 2142, 'Downstairs': 545, 'Standing': 237, 'Jogging': 1748, 'Sitting': 294, 'Upstairs': 660}\n",
      "{1: 151, 2: 117, 3: 178, 4: 57, 5: 143, 6: 156, 7: 158, 8: 207, 9: 65, 10: 176, 11: 161, 12: 164, 13: 187, 14: 191, 15: 145, 16: 102, 17: 144, 18: 166, 19: 228, 20: 285, 21: 179, 22: 112, 23: 130, 24: 129, 25: 67, 26: 163, 27: 178, 28: 106, 29: 191, 30: 128, 31: 224, 32: 179, 33: 202, 34: 183, 35: 111, 36: 163}\n"
     ]
    }
   ],
   "source": [
    "# Count number of intervals for each user and activity\n",
    "all_counts = parse.count_intervals(intervals)\n",
    "activity_counts = parse.count_intervals_per_activity(intervals)\n",
    "user_counts = parse.count_intervals_per_user(intervals)\n",
    "print(activity_counts)\n",
    "print(user_counts)"
   ]
  },
  {
   "cell_type": "code",
   "execution_count": 10,
   "metadata": {},
   "outputs": [],
   "source": [
    "# Select random examples of each activity.\n",
    "\n",
    "sampled_users = 33\n",
    "samples_per_user = 1\n",
    "\n",
    "np.random.seed(42)\n",
    "examples = dict()\n",
    "random_users = np.random.choice(list(user_ids), sampled_users)\n",
    "for activity in activities:\n",
    "    for user in random_users:\n",
    "        if len(intervals[(user, activity)]) >= samples_per_user:\n",
    "            examples[(user, activity)] = np.random.choice(intervals[(user, activity)], samples_per_user)\n"
   ]
  },
  {
   "cell_type": "code",
   "execution_count": 11,
   "metadata": {},
   "outputs": [],
   "source": [
    "if FLAG_PLOT: plot.intervals_by_activity(examples, [\"Upstairs\", \"Downstairs\"])"
   ]
  },
  {
   "cell_type": "code",
   "execution_count": 12,
   "metadata": {},
   "outputs": [],
   "source": [
    "if FLAG_PLOT: plot.intervals_by_activity(examples, [\"Walking\", \"Jogging\"])"
   ]
  },
  {
   "cell_type": "code",
   "execution_count": 13,
   "metadata": {},
   "outputs": [],
   "source": [
    "if FLAG_PLOT: plot.intervals_by_activity(examples, [\"Sitting\", \"Standing\"])"
   ]
  },
  {
   "cell_type": "code",
   "execution_count": 14,
   "metadata": {},
   "outputs": [],
   "source": [
    "def _shuffled_sequence(length):\n",
    "    seq = list(range(length))\n",
    "    np.random.shuffle(seq)  # Numpy does this in place.\n",
    "    return tuple(seq)\n"
   ]
  },
  {
   "cell_type": "code",
   "execution_count": 15,
   "metadata": {},
   "outputs": [],
   "source": [
    "# Create train-test folds\n",
    "np.random.seed(5)\n",
    "sequence = _shuffled_sequence(len(user_ids))\n",
    "folds = classification.train_test_folds(list(user_ids), sequence, 3)"
   ]
  },
  {
   "cell_type": "code",
   "execution_count": 16,
   "metadata": {},
   "outputs": [
    {
     "name": "stderr",
     "output_type": "stream",
     "text": [
      "/usr/local/lib/python3.6/site-packages/numpy/core/fromnumeric.py:2957: RuntimeWarning: Mean of empty slice.\n",
      "  out=out, **kwargs)\n",
      "/usr/local/lib/python3.6/site-packages/numpy/core/_methods.py:80: RuntimeWarning: invalid value encountered in double_scalars\n",
      "  ret = ret.dtype.type(ret / rcount)\n"
     ]
    }
   ],
   "source": [
    "# Calculate features for all data intervals\n",
    "mean_abs_magnituede_changes = features.calculate_for_dict(\n",
    "    intervals, features.mean_absolute_magnitude_change_per_second\n",
    ")\n",
    "mean_angle_changes = features.calculate_for_dict(intervals, features.mean_angle_change_per_second)\n"
   ]
  },
  {
   "cell_type": "code",
   "execution_count": 25,
   "metadata": {},
   "outputs": [],
   "source": [
    "walking_magnitudes = parse.collect_results_for_activity(mean_abs_magnituede_changes, \"Walking\")"
   ]
  },
  {
   "cell_type": "code",
   "execution_count": null,
   "metadata": {},
   "outputs": [],
   "source": []
  },
  {
   "cell_type": "code",
   "execution_count": null,
   "metadata": {},
   "outputs": [],
   "source": []
  },
  {
   "cell_type": "code",
   "execution_count": null,
   "metadata": {},
   "outputs": [],
   "source": []
  },
  {
   "cell_type": "code",
   "execution_count": null,
   "metadata": {},
   "outputs": [],
   "source": []
  },
  {
   "cell_type": "code",
   "execution_count": null,
   "metadata": {},
   "outputs": [],
   "source": []
  },
  {
   "cell_type": "code",
   "execution_count": null,
   "metadata": {},
   "outputs": [],
   "source": []
  },
  {
   "cell_type": "code",
   "execution_count": 20,
   "metadata": {},
   "outputs": [],
   "source": [
    "# ii = intervals[(1, 'Downstairs')]"
   ]
  },
  {
   "cell_type": "code",
   "execution_count": 21,
   "metadata": {},
   "outputs": [],
   "source": [
    "# features.calculate_for_measurements(ii[2], features.mean_absolute_magnitude_change_per_second)"
   ]
  },
  {
   "cell_type": "code",
   "execution_count": 22,
   "metadata": {},
   "outputs": [],
   "source": [
    "# "
   ]
  },
  {
   "cell_type": "code",
   "execution_count": 23,
   "metadata": {},
   "outputs": [],
   "source": [
    "# measurements = examples[(2, \"Jogging\")][0]"
   ]
  },
  {
   "cell_type": "code",
   "execution_count": 24,
   "metadata": {},
   "outputs": [],
   "source": [
    "# t, x, y, z = parse.relative_time_and_accelerations(measurements)"
   ]
  }
 ],
 "metadata": {
  "kernelspec": {
   "display_name": "Python 3",
   "language": "python",
   "name": "python3"
  },
  "language_info": {
   "codemirror_mode": {
    "name": "ipython",
    "version": 3
   },
   "file_extension": ".py",
   "mimetype": "text/x-python",
   "name": "python",
   "nbconvert_exporter": "python",
   "pygments_lexer": "ipython3",
   "version": "3.6.4"
  }
 },
 "nbformat": 4,
 "nbformat_minor": 2
}
